{
 "cells": [
  {
   "cell_type": "code",
   "execution_count": 9,
   "metadata": {},
   "outputs": [],
   "source": [
    "%load_ext autoreload\n",
    "%autoreload 2\n",
    "import sys\n",
    "\n",
    "sys.path.append('src/')\n",
    "\n",
    "import loading\n",
    "import resampling\n",
    "import models\n",
    "import metrics\n",
    "import evaluation"
   ]
  },
  {
   "cell_type": "code",
   "execution_count": 4,
   "metadata": {},
   "outputs": [],
   "source": [
    "## Loading data from credit fraud\n",
    "\n",
    "X_train, X_test, y_train, y_test = loading.load_dataset()"
   ]
  },
  {
   "cell_type": "code",
   "execution_count": 5,
   "metadata": {},
   "outputs": [
    {
     "name": "stderr",
     "output_type": "stream",
     "text": [
      "<ipython-input-5-522eb91654e1>:4: DataConversionWarning: A column-vector y was passed when a 1d array was expected. Please change the shape of y to (n_samples,), for example using ravel().\n",
      "  model.fit(X_train,y_train)\n"
     ]
    },
    {
     "data": {
      "text/plain": [
       "0.8558558558558559"
      ]
     },
     "execution_count": 5,
     "metadata": {},
     "output_type": "execute_result"
    }
   ],
   "source": [
    "## Evaluating model without resampling\n",
    "\n",
    "model = models.get_model()\n",
    "model.fit(X_train,y_train)\n",
    "y_pred = model.predict(X_test)\n",
    "metrics.score(y_test,y_pred,metric = 'f1')"
   ]
  },
  {
   "cell_type": "code",
   "execution_count": 6,
   "metadata": {},
   "outputs": [],
   "source": [
    "## Search for best resampling parameters with cross validation\n",
    "resampler_list = ['RandomOverSampler','SMOTE']\n",
    "class_ratio_list = [0.1,1]\n",
    "\n",
    "cv = evaluation.SearchCV(resampler_list = resampler_list, class_ratio_list = class_ratio_list, metric = 'f1')\n",
    "\n",
    "result = cv.fit(X_train.values,y_train.values)"
   ]
  },
  {
   "cell_type": "code",
   "execution_count": 12,
   "metadata": {},
   "outputs": [],
   "source": [
    "## Apply resampling strategy to the full training set\n",
    "\n",
    "resampler = resampling.get_resampler(**cv.best_params)\n",
    "X_train_resample, y_train_resample = resampler.fit_resample(X_train,y_train)"
   ]
  },
  {
   "cell_type": "code",
   "execution_count": 13,
   "metadata": {},
   "outputs": [
    {
     "name": "stderr",
     "output_type": "stream",
     "text": [
      "<ipython-input-13-c414bd0db36e>:4: DataConversionWarning: A column-vector y was passed when a 1d array was expected. Please change the shape of y to (n_samples,), for example using ravel().\n",
      "  model.fit(X_train_resample,y_train_resample)\n"
     ]
    },
    {
     "data": {
      "text/plain": [
       "0.8632478632478633"
      ]
     },
     "execution_count": 13,
     "metadata": {},
     "output_type": "execute_result"
    }
   ],
   "source": [
    "## Evaluate model trained on resampled data\n",
    "\n",
    "model = models.get_model()\n",
    "model.fit(X_train_resample,y_train_resample)\n",
    "y_pred = model.predict(X_test)\n",
    "metrics.score(y_test,y_pred,metric = 'f1')"
   ]
  }
 ],
 "metadata": {
  "interpreter": {
   "hash": "767d51c1340bd893661ea55ea3124f6de3c7a262a8b4abca0554b478b1e2ff90"
  },
  "kernelspec": {
   "display_name": "Python 2.7.16 64-bit",
   "language": "python",
   "name": "python3"
  },
  "language_info": {
   "codemirror_mode": {
    "name": "ipython",
    "version": 3
   },
   "file_extension": ".py",
   "mimetype": "text/x-python",
   "name": "python",
   "nbconvert_exporter": "python",
   "pygments_lexer": "ipython3",
   "version": "3.9.7"
  },
  "orig_nbformat": 4
 },
 "nbformat": 4,
 "nbformat_minor": 2
}
